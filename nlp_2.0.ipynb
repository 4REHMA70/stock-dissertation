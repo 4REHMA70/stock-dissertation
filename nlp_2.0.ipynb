{
 "cells": [
  {
   "cell_type": "markdown",
   "metadata": {},
   "source": [
    "https://www.kaggle.com/datasets/omermetinn/tweets-about-the-top-companies-from-2015-to-2020"
   ]
  },
  {
   "cell_type": "code",
   "execution_count": 1,
   "metadata": {},
   "outputs": [
    {
     "data": {
      "text/plain": [
       "array(['AAPL', 'AMZN', 'TSLA', 'MSFT', 'GOOG', 'GOOGL'], dtype=object)"
      ]
     },
     "execution_count": 1,
     "metadata": {},
     "output_type": "execute_result"
    }
   ],
   "source": [
    "# import pandas as pd\n",
    "# tweets = pd.read_csv(r'C:\\Users\\Adil Rehman\\OneDrive\\Documents\\Uni\\ML\\Dissertation\\stock\\tweets.csv')\n",
    "# tweets['ticker_symbol'].unique()"
   ]
  },
  {
   "cell_type": "code",
   "execution_count": 3,
   "metadata": {},
   "outputs": [],
   "source": [
    "import sys\n",
    "sys.path.append(r'C:\\Users\\Adil Rehman\\OneDrive\\Documents\\Uni\\ML\\Dissertation\\stock\\models')\n",
    "\n",
    "import tool\n",
    "tool.sound()\n",
    "# Tool.email()"
   ]
  },
  {
   "cell_type": "markdown",
   "metadata": {},
   "source": [
    "____\n",
    "# NEW\n"
   ]
  },
  {
   "cell_type": "code",
   "execution_count": 3,
   "metadata": {},
   "outputs": [
    {
     "name": "stdout",
     "output_type": "stream",
     "text": [
      "Using device: cuda\n"
     ]
    }
   ],
   "source": [
    "from gensim.models.coherencemodel import CoherenceModel\n",
    "from gensim.corpora import Dictionary\n",
    "import matplotlib.pyplot as plt\n",
    "import pandas as pd\n",
    "import numpy as np\n",
    "import pytz\n",
    "from datetime import datetime, time\n",
    "import re\n",
    "import nltk\n",
    "from nltk.corpus import stopwords\n",
    "from nltk.stem import WordNetLemmatizer\n",
    "from sklearn.feature_extraction.text import TfidfVectorizer\n",
    "from sklearn.decomposition import NMF, LatentDirichletAllocation\n",
    "from sklearn.metrics import silhouette_score\n",
    "from transformers import AutoTokenizer, AutoModelForSequenceClassification\n",
    "import torch\n",
    "import random\n",
    "\n",
    "device = torch.device(\"cuda\" if torch.cuda.is_available() else \"cpu\")\n",
    "# device = torch.device(\"cpu\")\n",
    "print(f\"Using device: {device}\")\n",
    "\n",
    "nltk.download(['punkt', 'stopwords', 'wordnet'], quiet=True)\n",
    "\n",
    "tokenizer = AutoTokenizer.from_pretrained(\"ProsusAI/finbert\")\n",
    "model = AutoModelForSequenceClassification.from_pretrained(\"ProsusAI/finbert\").to(device)\n"
   ]
  },
  {
   "cell_type": "code",
   "execution_count": 5,
   "metadata": {},
   "outputs": [],
   "source": [
    "from tqdm import tqdm \n",
    "import gc\n",
    "\n",
    "# market hours\n",
    "market_open = time(9, 30)\n",
    "market_close = time(16, 0)\n",
    "\n",
    "import time as Time\n",
    "\n",
    "def load_and_preprocess_data(file_path):\n",
    "    df = pd.read_csv(file_path, parse_dates=['post_date'])\n",
    "    df = df[df['ticker_symbol'].isin(['AAPL','AMZN', 'TSLA', 'MSFT', 'GOOG', 'GOOGL'])]\n",
    "    # df = df.head(200)\n",
    "\n",
    "    # Convert timezone from GMT+3 to NYSE timezone (Eastern Time)\n",
    "    eastern = pytz.timezone('US/Eastern')\n",
    "    df['post_date'] = df['post_date'].dt.tz_localize(pytz.FixedOffset(180)).dt.tz_convert(eastern)\n",
    "    \n",
    "    # Filtering tweets to include only those during or before market hours\n",
    "    df['market_date'] = df['post_date'].dt.date\n",
    "    df['post_time'] = df['post_date'].dt.time\n",
    "    \n",
    "    df = df[(df['post_time'] <= market_close) | ((df['post_time'] > time(0, 0)) & (df['post_time'] <= market_open))]\n",
    "    \n",
    "    return df\n",
    "\n",
    "url_mention_hashtag_pattern = re.compile(r'http\\S+|@\\w+|#\\w+|\\$[A-Z]+')\n",
    "\n",
    "def preprocess_text(text):\n",
    "    text = url_mention_hashtag_pattern.sub('', text.lower())\n",
    "    tokens = nltk.word_tokenize(text)\n",
    "    stop_words = set(stopwords.words('english'))\n",
    "    lemmatizer = WordNetLemmatizer()\n",
    "    return ' '.join(lemmatizer.lemmatize(token) for token in tokens if token.isalpha() and token not in stop_words)\n",
    "\n",
    "# def finbert_sentiment(texts, batch_size=1184):\n",
    "#     results = []\n",
    "#     for i in tqdm(range(0, len(texts), batch_size)):\n",
    "#         batch_texts = texts[i:i + batch_size]\n",
    "#         inputs = tokenizer(batch_texts, return_tensors=\"pt\", padding=True, truncation=True, max_length=512)\n",
    "#         inputs = {k: v.to(device) for k, v in inputs.items()}\n",
    "#         with torch.no_grad():\n",
    "#             outputs = model(**inputs)\n",
    "#         predictions = torch.nn.functional.softmax(outputs.logits, dim=-1)\n",
    "#         results.extend(predictions.cpu().numpy())\n",
    "#         del inputs, outputs, predictions\n",
    "#         gc.collect()\n",
    "#         torch.cuda.empty_cache()\n",
    "#     return np.array(results)\n",
    "\n",
    "def calculate_tweet_reach(row):\n",
    "    return (1 + row['comment_num'] + row['retweet_num'] + row['like_num'])\n",
    "\n",
    "# def detect_volume_anomalies(df):\n",
    "#     df['tweet_count'] = 1\n",
    "#     daily_volume = df.groupby('market_date')['tweet_count'].sum()\n",
    "#     volume_mean = daily_volume.mean()\n",
    "#     volume_std = daily_volume.std()\n",
    "#     return daily_volume.apply(lambda x: (x - volume_mean) / volume_std)\n",
    "\n",
    "def calculate_sentiment_trend(df):\n",
    "    df['sentiment_score'] = df['sentiment_positive'] - df['sentiment_negative']\n",
    "    daily_sentiment = df.groupby('market_date')['sentiment_score'].mean()\n",
    "    return daily_sentiment.pct_change()\n",
    "\n",
    "def calculate_coherence_score(model, texts, dictionary, feature_names):\n",
    "    topics = [\n",
    "        [feature_names[i] for i in topic.argsort()[:-11:-1]]\n",
    "        for topic in model.components_\n",
    "    ]\n",
    "    coherence_model = CoherenceModel(topics=topics, texts=texts, dictionary=dictionary, coherence='c_v')\n",
    "    return coherence_model.get_coherence()\n",
    "\n",
    "def optimize_dataframe(df):\n",
    "    df['ticker_symbol'] = df['ticker_symbol'].astype('category')\n",
    "    df['market_date'] = pd.to_datetime(df['market_date'])\n",
    "    df['post_time'] = df['post_time'].apply(lambda x: x.strftime('%H:%M:%S'))\n",
    "    df['post_time'] = pd.to_datetime(df['post_time'], format='%H:%M:%S').dt.time\n",
    "    return df\n",
    "\n"
   ]
  },
  {
   "cell_type": "code",
   "execution_count": 4,
   "metadata": {},
   "outputs": [],
   "source": [
    "\n",
    "# file_path = r'C:\\Users\\Adil Rehman\\OneDrive\\Documents\\Uni\\ML\\Dissertation\\stock\\tweets.csv'\n",
    "# df = load_and_preprocess_data(file_path)\n",
    "\n",
    "# print(\"Preprocessing tweets...\")\n",
    "# df['preprocessed_text'] = df['body'].apply(preprocess_text)\n",
    "\n",
    "# print(\"Optimizing...\")\n",
    "# df = optimize_dataframe(df)\n",
    "\n",
    "# df.to_csv('optimized.csv', index=False)\n",
    "df = pd.read_csv('optimized.csv')"
   ]
  },
  {
   "cell_type": "markdown",
   "metadata": {},
   "source": [
    "# Testing which is better. NMF or LDA"
   ]
  },
  {
   "cell_type": "code",
   "execution_count": 6,
   "metadata": {},
   "outputs": [
    {
     "name": "stdout",
     "output_type": "stream",
     "text": [
      "Preprocessing text for optimal topics...\n",
      "Vectorizing on sample for tfidf matrix and topic modelling...\n",
      "Determining optimal number of topics...\n"
     ]
    },
    {
     "name": "stderr",
     "output_type": "stream",
     "text": [
      "Evaluating topic numbers:   0%|          | 0/9 [00:00<?, ?it/s]"
     ]
    },
    {
     "name": "stdout",
     "output_type": "stream",
     "text": [
      "NMF time: 0.1155\n",
      "LDA time: 1.0473\n",
      "LSA time: 0.0190\n"
     ]
    },
    {
     "name": "stderr",
     "output_type": "stream",
     "text": [
      "Evaluating topic numbers:  11%|█         | 1/9 [00:13<01:46, 13.26s/it]"
     ]
    },
    {
     "name": "stdout",
     "output_type": "stream",
     "text": [
      "NMF time: 0.0242\n",
      "LDA time: 1.1246\n",
      "LSA time: 0.1476\n"
     ]
    },
    {
     "name": "stderr",
     "output_type": "stream",
     "text": [
      "Evaluating topic numbers:  22%|██▏       | 2/9 [00:25<01:30, 12.88s/it]"
     ]
    },
    {
     "name": "stdout",
     "output_type": "stream",
     "text": [
      "NMF time: 0.0812\n",
      "LDA time: 1.0666\n",
      "LSA time: 0.1252\n"
     ]
    },
    {
     "name": "stderr",
     "output_type": "stream",
     "text": [
      "Evaluating topic numbers:  33%|███▎      | 3/9 [00:38<01:16, 12.75s/it]"
     ]
    },
    {
     "name": "stdout",
     "output_type": "stream",
     "text": [
      "NMF time: 0.0787\n",
      "LDA time: 1.0456\n",
      "LSA time: 0.3443\n"
     ]
    },
    {
     "name": "stderr",
     "output_type": "stream",
     "text": [
      "Evaluating topic numbers:  44%|████▍     | 4/9 [00:51<01:03, 12.76s/it]"
     ]
    },
    {
     "name": "stdout",
     "output_type": "stream",
     "text": [
      "NMF time: 0.0423\n",
      "LDA time: 0.9350\n",
      "LSA time: 0.1975\n"
     ]
    },
    {
     "name": "stderr",
     "output_type": "stream",
     "text": [
      "Evaluating topic numbers:  56%|█████▌    | 5/9 [01:03<00:50, 12.65s/it]"
     ]
    },
    {
     "name": "stdout",
     "output_type": "stream",
     "text": [
      "NMF time: 0.0820\n",
      "LDA time: 0.8992\n",
      "LSA time: 0.2746\n"
     ]
    },
    {
     "name": "stderr",
     "output_type": "stream",
     "text": [
      "Evaluating topic numbers:  67%|██████▋   | 6/9 [01:16<00:37, 12.62s/it]"
     ]
    },
    {
     "name": "stdout",
     "output_type": "stream",
     "text": [
      "NMF time: 0.0474\n",
      "LDA time: 0.8791\n",
      "LSA time: 0.1965\n"
     ]
    },
    {
     "name": "stderr",
     "output_type": "stream",
     "text": [
      "Evaluating topic numbers:  78%|███████▊  | 7/9 [01:28<00:25, 12.58s/it]"
     ]
    },
    {
     "name": "stdout",
     "output_type": "stream",
     "text": [
      "NMF time: 0.1402\n",
      "LDA time: 0.8765\n",
      "LSA time: 0.3395\n"
     ]
    },
    {
     "name": "stderr",
     "output_type": "stream",
     "text": [
      "Evaluating topic numbers:  89%|████████▉ | 8/9 [01:41<00:12, 12.66s/it]"
     ]
    },
    {
     "name": "stdout",
     "output_type": "stream",
     "text": [
      "NMF time: 0.0912\n",
      "LDA time: 0.8340\n",
      "LSA time: 0.3321\n"
     ]
    },
    {
     "name": "stderr",
     "output_type": "stream",
     "text": [
      "Evaluating topic numbers: 100%|██████████| 9/9 [01:54<00:00, 12.71s/it]\n"
     ]
    },
    {
     "data": {
      "image/png": "[encoded data removed]",
      "text/plain": [
       "<Figure size 1200x600 with 1 Axes>"
      ]
     },
     "metadata": {},
     "output_type": "display_data"
    },
    {
     "name": "stdout",
     "output_type": "stream",
     "text": [
      "Optimal number of topics for NMF: 2\n",
      "Optimal number of topics for LDA: 2\n",
      "Optimal number of topics for LSA: 9\n"
     ]
    }
   ],
   "source": [
    "from gensim.models.coherencemodel import CoherenceModel\n",
    "from gensim.corpora import Dictionary\n",
    "import matplotlib.pyplot as plt\n",
    "import pandas as pd\n",
    "import numpy as np\n",
    "import pytz\n",
    "from datetime import datetime, time\n",
    "import re\n",
    "from tqdm import tqdm\n",
    "import nltk\n",
    "from nltk.corpus import stopwords\n",
    "from nltk.stem import WordNetLemmatizer\n",
    "from sklearn.feature_extraction.text import TfidfVectorizer\n",
    "from sklearn.decomposition import NMF, LatentDirichletAllocation, TruncatedSVD\n",
    "from sklearn.metrics import silhouette_score\n",
    "from transformers import AutoTokenizer, AutoModelForSequenceClassification\n",
    "import torch\n",
    "import random\n",
    "import time as Time\n",
    "\n",
    "def topic_modeling(df, n_topics, max_features=500):\n",
    "    print('Vectorizing on full data for tfidf matrix and topic modelling...')\n",
    "    vectorizer = TfidfVectorizer(max_features=max_features, min_df=5, max_df=0.95, stop_words='english')\n",
    "    tfidf_matrix = vectorizer.fit_transform(df['preprocessed_text'])\n",
    "    feature_names = vectorizer.get_feature_names_out()\n",
    "    \n",
    "    nmf_model = NMF(n_components=n_topics, random_state=42)\n",
    "    lda_model = LatentDirichletAllocation(n_components=n_topics, random_state=42)\n",
    "    lsa_model = TruncatedSVD(n_components=n_topics, random_state=42)\n",
    "    \n",
    "    nmf_output = nmf_model.fit_transform(tfidf_matrix)\n",
    "    lda_output = lda_model.fit_transform(tfidf_matrix)\n",
    "    lsa_output = lsa_model.fit_transform(tfidf_matrix)\n",
    "    \n",
    "    return nmf_output, lda_output, lsa_output, feature_names, nmf_model, lda_model, lsa_model\n",
    "\n",
    "def add_topic_columns(df, nmf_output, lda_output, lsa_output, n_topics):\n",
    "    for i in range(n_topics):\n",
    "        df[f'nmf_topic_{i}'] = nmf_output[:, i]\n",
    "        df[f'lda_topic_{i}'] = lda_output[:, i]\n",
    "        df[f'lsa_topic_{i}'] = lsa_output[:, i]\n",
    "    return df\n",
    "\n",
    "def get_optimal_topics(df, max_topics=40, max_features=500, sample_num=10000):\n",
    "    train_size = int(0.8 * len(df))\n",
    "    train_df = df[:train_size]\n",
    "    sample_df = train_df.sample(n=sample_num, random_state=42)\n",
    "    # sample_df = train_df.sample(n=int(sample_rate * len(df)), random_state=42)\n",
    "\n",
    "    print('Preprocessing text for optimal topics...')\n",
    "    sample_df['preprocessed_text'] = sample_df['preprocessed_text'].fillna('')\n",
    "    preprocessed_texts = sample_df['preprocessed_text'].astype(str).str.split().tolist()\n",
    "\n",
    "    preprocessed_texts = [text for text in preprocessed_texts if text]\n",
    "\n",
    "    if not preprocessed_texts:\n",
    "        raise ValueError(\"No valid preprocessed texts found in the sample.\")\n",
    "\n",
    "    dictionary = Dictionary(preprocessed_texts)\n",
    "    dictionary.filter_extremes(no_below=5, no_above=0.95)\n",
    "\n",
    "    print('Vectorizing on sample for tfidf matrix and topic modelling...')\n",
    "    vectorizer = TfidfVectorizer(max_features=max_features, min_df=5, max_df=0.95, stop_words='english')\n",
    "    tfidf_matrix = vectorizer.fit_transform(sample_df['preprocessed_text'])\n",
    "    feature_names = vectorizer.get_feature_names_out()\n",
    "\n",
    "    results = []\n",
    "    print(\"Determining optimal number of topics...\")\n",
    "    for n_topics in tqdm(range(2, max_topics + 1), desc=\"Evaluating topic numbers\"):\n",
    "        nmf_model = NMF(n_components=n_topics, random_state=42)\n",
    "        lda_model = LatentDirichletAllocation(n_components=n_topics, random_state=42)\n",
    "        lsa_model = TruncatedSVD(n_components=n_topics, random_state=42)\n",
    "\n",
    "        start = Time.time()\n",
    "        nmf_output = nmf_model.fit_transform(tfidf_matrix)\n",
    "        end = Time.time()\n",
    "        print(f\"NMF time: {end-start:.4f}\")    \n",
    "    \n",
    "        start = Time.time()\n",
    "        lda_output = lda_model.fit_transform(tfidf_matrix)\n",
    "        end = Time.time()\n",
    "        print(f\"LDA time: {end-start:.4f}\")\n",
    "        \n",
    "        start = Time.time()\n",
    "        lsa_output = lsa_model.fit_transform(tfidf_matrix)\n",
    "        end = Time.time()\n",
    "        print(f\"LSA time: {end-start:.4f}\")\n",
    "        \n",
    "        nmf_coherence = calculate_coherence_score(nmf_model, preprocessed_texts, dictionary, feature_names)\n",
    "        lda_coherence = calculate_coherence_score(lda_model, preprocessed_texts, dictionary, feature_names)\n",
    "        lsa_coherence = calculate_coherence_score(lsa_model, preprocessed_texts, dictionary, feature_names)\n",
    "\n",
    "        nmf_score = silhouette_score(tfidf_matrix, np.argmax(nmf_output, axis=1))\n",
    "        lda_score = silhouette_score(tfidf_matrix, np.argmax(lda_output, axis=1))\n",
    "        lsa_score = silhouette_score(tfidf_matrix, np.argmax(lsa_output, axis=1))\n",
    "\n",
    "        results.append({\n",
    "            'n_topics': n_topics,\n",
    "            'nmf_coherence': nmf_coherence,\n",
    "            'lda_coherence': lda_coherence,\n",
    "            'lsa_coherence': lsa_coherence,\n",
    "            'nmf_silhouette': nmf_score,\n",
    "            'lda_silhouette': lda_score,\n",
    "            'lsa_silhouette': lsa_score\n",
    "        })\n",
    "\n",
    "    results_df = pd.DataFrame(results)\n",
    "    optimal_nmf_topics = results_df.loc[results_df['nmf_coherence'].idxmax(), 'n_topics']\n",
    "    optimal_lda_topics = results_df.loc[results_df['lda_coherence'].idxmax(), 'n_topics']\n",
    "    optimal_lsa_topics = results_df.loc[results_df['lsa_coherence'].idxmax(), 'n_topics']\n",
    "\n",
    "    plt.figure(figsize=(12, 6))\n",
    "    plt.plot(results_df['n_topics'], results_df['nmf_coherence'], label='NMF Coherence Score')\n",
    "    plt.plot(results_df['n_topics'], results_df['lda_coherence'], label='LDA Coherence Score')\n",
    "    plt.plot(results_df['n_topics'], results_df['lsa_coherence'], label='LSA Coherence Score')\n",
    "    plt.xlabel('Number of Topics')\n",
    "    plt.ylabel('Coherence Score')\n",
    "    plt.legend()\n",
    "    plt.show()\n",
    "\n",
    "    return optimal_nmf_topics, optimal_lda_topics, optimal_lsa_topics\n",
    "\n",
    "df = pd.read_csv('optimized.csv')\n",
    "optimal_nmf_topics, optimal_lda_topics, optimal_lsa_topics = get_optimal_topics(df.drop_duplicates(), max_topics=10, sample_num=1000)\n",
    "\n",
    "print(f\"Optimal number of topics for NMF: {optimal_nmf_topics}\")\n",
    "print(f\"Optimal number of topics for LDA: {optimal_lda_topics}\")\n",
    "print(f\"Optimal number of topics for LSA: {optimal_lsa_topics}\")\n"
   ]
  },
  {
   "cell_type": "markdown",
   "metadata": {},
   "source": [
    "<span style=\"color:crimson\">On average, LDA takes 79 times as long as NMF</span>"
   ]
  },
  {
   "cell_type": "markdown",
   "metadata": {},
   "source": [
    "\n",
    "# NMF ONLY"
   ]
  },
  {
   "cell_type": "code",
   "execution_count": 5,
   "metadata": {},
   "outputs": [],
   "source": [
    "def topic_modeling(df, n_topics, max_features=500):\n",
    "    print('Vectorizing on full data for tfidf matrix and topic modelling...')\n",
    "    vectorizer = TfidfVectorizer(max_features=max_features, min_df=5, max_df=0.95, stop_words='english')\n",
    "    tfidf_matrix = vectorizer.fit_transform(df['preprocessed_text'])\n",
    "    feature_names = vectorizer.get_feature_names_out()\n",
    "    \n",
    "    print('Performing NMF modelling...')\n",
    "    nmf_model = NMF(n_components=n_topics, random_state=42)\n",
    "    nmf_output = nmf_model.fit_transform(tfidf_matrix)\n",
    "    \n",
    "    return nmf_output, feature_names, nmf_model\n",
    "\n",
    "def add_topic_columns(df, nmf_output, n_topics):\n",
    "    for i in range(n_topics):\n",
    "        df[f'nmf_topic_{i}'] = nmf_output[:, i]\n",
    "    return df\n",
    "\n",
    "def calculate_coherence_score(model, texts, dictionary, feature_names):\n",
    "    topics = [\n",
    "        [feature_names[i] for i in topic.argsort()[:-11:-1]]\n",
    "        for topic in model.components_\n",
    "    ]\n",
    "    coherence_model = CoherenceModel(topics=topics, texts=texts, dictionary=dictionary, coherence='c_v')\n",
    "    return coherence_model.get_coherence()\n",
    "\n",
    "def get_optimal_topics(df, max_topics=40, max_features=500, sample_num=10000, patience=5):\n",
    "    train_size = int(0.8 * len(df))\n",
    "    train_df = df[:train_size]\n",
    "    sample_df = train_df.sample(n=sample_num, random_state=42)\n",
    "\n",
    "    print('Preprocessing text for optimal topics...')\n",
    "    sample_df['preprocessed_text'] = sample_df['preprocessed_text'].fillna('')\n",
    "    preprocessed_texts = sample_df['preprocessed_text'].astype(str).str.split().tolist()\n",
    "\n",
    "    # Filter out empty lists\n",
    "    preprocessed_texts = [text for text in preprocessed_texts if text]\n",
    "\n",
    "    if not preprocessed_texts:\n",
    "        raise ValueError(\"No valid preprocessed texts found in the sample.\")\n",
    "\n",
    "    dictionary = Dictionary(preprocessed_texts)\n",
    "    dictionary.filter_extremes(no_below=5, no_above=0.95)\n",
    "\n",
    "    print('Vectorizing on sample for tfidf matrix and topic modelling...')\n",
    "    vectorizer = TfidfVectorizer(max_features=max_features, min_df=5, max_df=0.95, stop_words='english')\n",
    "    tfidf_matrix = vectorizer.fit_transform(sample_df['preprocessed_text'])\n",
    "    feature_names = vectorizer.get_feature_names_out()\n",
    "\n",
    "    results = []\n",
    "    print(\"Determining optimal number of topics...\")\n",
    "    best_coherence = -np.inf\n",
    "    best_n_topics = 0\n",
    "    no_improvement_counter = 0\n",
    "\n",
    "    for n_topics in tqdm(range(2, max_topics + 1), desc=\"Evaluating topic numbers\"):\n",
    "        nmf_model = NMF(n_components=n_topics, random_state=42)\n",
    "\n",
    "        # start = Time.time()\n",
    "        nmf_output = nmf_model.fit_transform(tfidf_matrix)\n",
    "        # end = Time.time()\n",
    "        # print(f\"NMF time: {end-start:.4f}\")    \n",
    "    \n",
    "        nmf_coherence = calculate_coherence_score(nmf_model, preprocessed_texts, dictionary, feature_names)\n",
    "        nmf_score = silhouette_score(tfidf_matrix, np.argmax(nmf_output, axis=1))\n",
    "\n",
    "        results.append({\n",
    "            'n_topics': n_topics,\n",
    "            'nmf_coherence': nmf_coherence,\n",
    "            'nmf_silhouette': nmf_score\n",
    "        })\n",
    "\n",
    "        if nmf_coherence > best_coherence:\n",
    "            best_coherence = nmf_coherence\n",
    "            best_n_topics = n_topics\n",
    "            no_improvement_counter = 0\n",
    "        else:\n",
    "            no_improvement_counter += 1\n",
    "\n",
    "        if no_improvement_counter >= patience:\n",
    "            print(f\"Early stopping at {n_topics} topics due to no improvement in coherence score for {patience} iterations.\")\n",
    "            break\n",
    "\n",
    "    results_df = pd.DataFrame(results)\n",
    "    optimal_nmf_topics = best_n_topics\n",
    "\n",
    "    plt.figure(figsize=(12, 6))\n",
    "    plt.plot(results_df['n_topics'], results_df['nmf_coherence'], label='NMF Coherence Score')\n",
    "    plt.xlabel('Number of Topics')\n",
    "    plt.ylabel('Coherence Score')\n",
    "    plt.legend()\n",
    "    plt.show()\n",
    "\n",
    "    return optimal_nmf_topics\n"
   ]
  },
  {
   "cell_type": "code",
   "execution_count": 19,
   "metadata": {},
   "outputs": [
    {
     "name": "stdout",
     "output_type": "stream",
     "text": [
      "Preprocessing text for optimal topics...\n",
      "Vectorizing on sample for tfidf matrix and topic modelling...\n",
      "Determining optimal number of topics...\n"
     ]
    },
    {
     "name": "stderr",
     "output_type": "stream",
     "text": [
      "Evaluating topic numbers:  63%|██████▎   | 12/19 [57:25<33:29, 287.14s/it]"
     ]
    },
    {
     "name": "stdout",
     "output_type": "stream",
     "text": [
      "Early stopping at 14 topics due to no improvement in coherence score for 5 iterations.\n"
     ]
    },
    {
     "name": "stderr",
     "output_type": "stream",
     "text": [
      "\n"
     ]
    },
    {
     "data": {
      "image/png": "[encoded data removed]",
      "text/plain": [
       "<Figure size 1200x600 with 1 Axes>"
      ]
     },
     "metadata": {},
     "output_type": "display_data"
    },
    {
     "name": "stdout",
     "output_type": "stream",
     "text": [
      "Optimal number of topics for NMF: 9\n"
     ]
    }
   ],
   "source": [
    "\n",
    "optimal_nmf_topics = get_optimal_topics(df.drop_duplicates(), max_topics=20, sample_num=100000)\n",
    "\n",
    "print(f\"Optimal number of topics for NMF: {optimal_nmf_topics}\")\n"
   ]
  },
  {
   "cell_type": "code",
   "execution_count": 3,
   "metadata": {},
   "outputs": [],
   "source": [
    "import torch\n",
    "from tqdm import tqdm\n",
    "import numpy as np\n",
    "import gc\n",
    "\n",
    "def finbert_sentiment(texts, model, tokenizer, batch_size=8, chunk_size=1000, device='cuda'):\n",
    "    results = []\n",
    "    model.eval()\n",
    "    model.to(device)\n",
    "\n",
    "    for i in tqdm(range(0, len(texts), chunk_size)):\n",
    "        chunk = texts[i:i+chunk_size]\n",
    "        chunk_results = []\n",
    "\n",
    "        for j in range(0, len(chunk), batch_size):\n",
    "            batch_texts = chunk[j:j+batch_size]\n",
    "            \n",
    "            # Tokenize and encode the batch\n",
    "            inputs = tokenizer(batch_texts, return_tensors=\"pt\", padding=True, truncation=True, max_length=512)\n",
    "            inputs = {k: v.to(device) for k, v in inputs.items()}\n",
    "            \n",
    "            # Process the batch\n",
    "            with torch.no_grad():\n",
    "                outputs = model(**inputs)\n",
    "                predictions = torch.nn.functional.softmax(outputs.logits, dim=-1)\n",
    "                chunk_results.extend(predictions.cpu().numpy())\n",
    "            \n",
    "            # Clear memory\n",
    "            del inputs, outputs, predictions\n",
    "            torch.cuda.empty_cache()\n",
    "        \n",
    "        results.extend(chunk_results)\n",
    "        \n",
    "        # Clear memory after processing each chunk\n",
    "        gc.collect()\n",
    "        torch.cuda.empty_cache()\n",
    "\n",
    "    return np.array(results)\n"
   ]
  },
  {
   "cell_type": "code",
   "execution_count": null,
   "metadata": {},
   "outputs": [],
   "source": [
    "# Load FinBERT model for sentiment analysis\n",
    "tokenizer = AutoTokenizer.from_pretrained(\"ProsusAI/finbert\")\n",
    "model = AutoModelForSequenceClassification.from_pretrained(\"ProsusAI/finbert\").to(device)\n",
    "model = model.half()  # Convert to float16\n",
    "\n",
    "print(\"Performing sentiment analysis...\")\n",
    "sentiment_scores = finbert_sentiment(df['body'].tolist(), model=model, tokenizer=tokenizer, batch_size=128)\n",
    "df[['sentiment_negative', 'sentiment_neutral', 'sentiment_positive']] = sentiment_scores\n",
    "\n",
    "print(\"Calculating tweet reach...\")\n",
    "df['tweet_reach'] = df.apply(calculate_tweet_reach, axis=1)"
   ]
  },
  {
   "cell_type": "code",
   "execution_count": 1,
   "metadata": {},
   "outputs": [],
   "source": [
    "import pandas as pd\n",
    "# df['sentiment_trend'] = calculate_sentiment_trend(df)\n",
    "# # df['']\n",
    "# df.to_csv('sentiments.csv')\n",
    "# Tool.sound()\n",
    "df = pd.read_csv('sentiments.csv')"
   ]
  },
  {
   "cell_type": "code",
   "execution_count": 6,
   "metadata": {},
   "outputs": [
    {
     "name": "stdout",
     "output_type": "stream",
     "text": [
      "Performing final topic modeling...\n",
      "Vectorizing on full data for tfidf matrix and topic modelling...\n",
      "Performing NMF modelling...\n",
      "Adding topic columns to DataFrame...\n",
      "Calculating sentiment score...\n"
     ]
    }
   ],
   "source": [
    "df = df.dropna(subset=['preprocessed_text'])\n",
    "# optimal_nmf_topics, optimal_lda_topics = 4, 3\n",
    "optimal_nmf_topics = 9\n",
    "print(\"Performing final topic modeling...\")\n",
    "nmf_output, feature_names, nmf_model = topic_modeling(df, optimal_nmf_topics, max_features=500)\n",
    "\n",
    "print(\"Adding topic columns to DataFrame...\")\n",
    "df = add_topic_columns(df, nmf_output, optimal_nmf_topics)\n",
    "\n",
    "print(\"Calculating sentiment score...\")\n",
    "df['sentiment_score'] = df['sentiment_positive'] - df['sentiment_negative']\n",
    "\n",
    "df.to_csv('nmf_all_unaggregated.csv')\n"
   ]
  },
  {
   "cell_type": "code",
   "execution_count": 18,
   "metadata": {},
   "outputs": [
    {
     "name": "stderr",
     "output_type": "stream",
     "text": [
      "C:\\Users\\Adil Rehman\\AppData\\Local\\Temp\\ipykernel_3000\\1378733447.py:94: DeprecationWarning: DataFrameGroupBy.apply operated on the grouping columns. This behavior is deprecated, and in a future version of pandas the grouping columns will be excluded from the operation. Either pass `include_groups=False` to exclude the groupings or explicitly select the grouping columns after groupby to silence this warning.\n",
      "  daily_volume_aggregated = grouped.apply(volume_based_aggregation).reset_index()\n"
     ]
    }
   ],
   "source": [
    "import numpy as np\n",
    "import pandas as pd\n",
    "\n",
    "def credibility_weighted_aggregation(group):\n",
    "    weights = group['tweet_reach']\n",
    "    \n",
    "    result = {\n",
    "        'avg_sentiment': np.average(group['sentiment_score'], weights=weights),\n",
    "        'avg_neutral_sentiment': np.average(group['sentiment_neutral'], weights=weights),        \n",
    "        'avg_positive_sentiment': np.average(group['sentiment_positive'], weights=weights),\n",
    "        'avg_negative_sentiment': np.average(group['sentiment_negative'], weights=weights),\n",
    "        'total_engagement': weights.sum(),\n",
    "        'total_reach': group['tweet_reach'].sum(),\n",
    "    }\n",
    "    \n",
    "    nmf_cols = [col for col in group.columns if col.startswith('nmf_topic_')]\n",
    "    for col in nmf_cols:\n",
    "        result[col] = np.average(group[col], weights=weights)\n",
    "    \n",
    "    lda_cols = [col for col in group.columns if col.startswith('lda_topic_')]\n",
    "    for col in lda_cols:\n",
    "        result[col] = np.average(group[col], weights=weights)\n",
    "\n",
    "    tweet_count = len(group)\n",
    "    result['avg_reach_per_tweet'] = result['total_reach'] / tweet_count if tweet_count > 0 else 0\n",
    "    result['avg_engagement_per_tweet'] = result['total_engagement'] / tweet_count if tweet_count > 0 else 0\n",
    "    \n",
    "    return pd.Series(result)\n",
    "\n",
    "def attention_weighted_aggregation(group):\n",
    "    weights = group['comment_num'] + group['retweet_num'] + group['like_num']\n",
    "    \n",
    "    # Check if all weights are zero\n",
    "    if weights.sum() == 0:\n",
    "        # If all weights are zero, use equal weights\n",
    "        weights = pd.Series([1] * len(group))\n",
    "    \n",
    "    result = {\n",
    "        'avg_sentiment': np.average(group['sentiment_score'], weights=weights),\n",
    "        'avg_neutral_sentiment': np.average(group['sentiment_neutral'], weights=weights),        \n",
    "        'avg_positive_sentiment': np.average(group['sentiment_positive'], weights=weights),\n",
    "        'avg_negative_sentiment': np.average(group['sentiment_negative'], weights=weights),\n",
    "        'total_engagement': weights.sum(),\n",
    "        'total_reach': group['tweet_reach'].sum(),\n",
    "        'tweet_volume': len(group)  \n",
    "    }\n",
    "    \n",
    "    nmf_cols = [col for col in group.columns if col.startswith('nmf_topic_')]\n",
    "    for col in nmf_cols:\n",
    "        result[col] = np.average(group[col], weights=weights)\n",
    "    \n",
    "    lda_cols = [col for col in group.columns if col.startswith('lda_topic_')]\n",
    "    for col in lda_cols:\n",
    "        result[col] = np.average(group[col], weights=weights)\n",
    "    \n",
    "    tweet_count = len(group)\n",
    "    result['avg_reach_per_tweet'] = result['total_reach'] / tweet_count if tweet_count > 0 else 0\n",
    "    result['avg_engagement_per_tweet'] = result['total_engagement'] / tweet_count if tweet_count > 0 else 0\n",
    "    \n",
    "    return pd.Series(result)\n",
    "\n",
    "def volume_based_aggregation(group):\n",
    "    tweet_count = len(group)\n",
    "    \n",
    "    result = {\n",
    "        'tweet_volume': tweet_count,\n",
    "        'avg_sentiment': group['sentiment_score'].mean(),\n",
    "        'avg_neutral_sentiment': group['sentiment_neutral'].mean(),\n",
    "        'avg_positive_sentiment': group['sentiment_positive'].mean(),\n",
    "        'avg_negative_sentiment': group['sentiment_negative'].mean(),\n",
    "    }\n",
    "    \n",
    "    nmf_cols = [col for col in group.columns if col.startswith('nmf_topic_')]\n",
    "    for col in nmf_cols:\n",
    "        result[f'{col}_avg'] = group[col].mean()\n",
    "    \n",
    "    result['total_reach'] = group['tweet_reach'].sum()\n",
    "    result['avg_reach_per_tweet'] = result['total_reach'] / tweet_count if tweet_count > 0 else 0\n",
    "    result['total_engagement'] = group['comment_num'].sum() + group['retweet_num'].sum() + group['like_num'].sum()\n",
    "    result['avg_engagement_per_tweet'] = result['total_engagement'] / tweet_count if tweet_count > 0 else 0\n",
    "    \n",
    "    return pd.Series(result)\n",
    "\n",
    "df = pd.read_csv('nmf_all_unaggregated.csv')\n",
    "df = df.drop(columns='Unnamed: 0')\n",
    "\n",
    "grouped = df.groupby(['market_date', 'ticker_symbol'])\n",
    "\n",
    "# daily_credibility_weighted = grouped.apply(credibility_weighted_aggregation).reset_index()\n",
    "# daily_attention_weighted = grouped.apply(attention_weighted_aggregation).reset_index()\n",
    "daily_volume_aggregated = grouped.apply(volume_based_aggregation).reset_index()\n",
    "\n",
    "# daily_credibility_weighted.to_csv('./test_csvs/credibility_by_ticker.csv', index=False)\n",
    "# daily_attention_weighted.to_csv('./test_csvs/attention_by_ticker.csv', index=False)\n",
    "daily_volume_aggregated.to_csv('./test_csvs/nmf_volume.csv', index=False)\n"
   ]
  },
  {
   "cell_type": "markdown",
   "metadata": {},
   "source": [
    "Implemented proper time zone handling.\n",
    "\n",
    "Used only tweets up to market close for each day's features.\n",
    "\n",
    "Split the data into training and testing sets before model selection and training.\n",
    "\n",
    "Ensured all feature engineering steps are performed separately on training and testing data.\n",
    "\n"
   ]
  },
  {
   "cell_type": "markdown",
   "metadata": {},
   "source": [
    "____ "
   ]
  },
  {
   "cell_type": "markdown",
   "metadata": {},
   "source": [
    "# LSA ONLY"
   ]
  },
  {
   "cell_type": "code",
   "execution_count": 9,
   "metadata": {},
   "outputs": [
    {
     "name": "stdout",
     "output_type": "stream",
     "text": [
      "Preprocessing text for optimal topics...\n",
      "Vectorizing on sample for tfidf matrix and topic modelling...\n",
      "Determining optimal number of topics...\n"
     ]
    },
    {
     "name": "stderr",
     "output_type": "stream",
     "text": [
      "Evaluating topic numbers:  26%|██▋       | 5/19 [20:02<56:06, 240.50s/it]  "
     ]
    },
    {
     "name": "stdout",
     "output_type": "stream",
     "text": [
      "Early stopping at 7 topics due to no improvement in coherence score for 5 iterations.\n"
     ]
    },
    {
     "name": "stderr",
     "output_type": "stream",
     "text": [
      "\n"
     ]
    },
    {
     "data": {
      "image/png": "[encoded data removed]",
      "text/plain": [
       "<Figure size 1200x600 with 1 Axes>"
      ]
     },
     "metadata": {},
     "output_type": "display_data"
    },
    {
     "name": "stdout",
     "output_type": "stream",
     "text": [
      "Optimal number of topics for LSA: 2\n"
     ]
    }
   ],
   "source": [
    "import pandas as pd\n",
    "import numpy as np\n",
    "from sklearn.feature_extraction.text import TfidfVectorizer\n",
    "from sklearn.decomposition import TruncatedSVD\n",
    "from sklearn.metrics import silhouette_score\n",
    "from gensim.models.coherencemodel import CoherenceModel\n",
    "from gensim.corpora import Dictionary\n",
    "from tqdm import tqdm\n",
    "import matplotlib.pyplot as plt\n",
    "\n",
    "def topic_modeling(df, n_topics, max_features=500):\n",
    "    print('Vectorizing on full data for tfidf matrix and topic modelling...')\n",
    "    vectorizer = TfidfVectorizer(max_features=max_features, min_df=5, max_df=0.95, stop_words='english')\n",
    "    tfidf_matrix = vectorizer.fit_transform(df['preprocessed_text'])\n",
    "    feature_names = vectorizer.get_feature_names_out()\n",
    "    \n",
    "    print('Performing LSA modelling...')\n",
    "    lsa_model = TruncatedSVD(n_components=n_topics, random_state=42)\n",
    "    lsa_output = lsa_model.fit_transform(tfidf_matrix)\n",
    "    \n",
    "    return lsa_output, feature_names, lsa_model\n",
    "\n",
    "def add_topic_columns(df, lsa_output, n_topics):\n",
    "    for i in range(n_topics):\n",
    "        df[f'lsa_topic_{i}'] = lsa_output[:, i]\n",
    "    return df\n",
    "\n",
    "def calculate_coherence_score(model, texts, dictionary, feature_names):\n",
    "    topics = [\n",
    "        [feature_names[i] for i in topic.argsort()[:-11:-1]]\n",
    "        for topic in model.components_\n",
    "    ]\n",
    "    coherence_model = CoherenceModel(topics=topics, texts=texts, dictionary=dictionary, coherence='c_v')\n",
    "    return coherence_model.get_coherence()\n",
    "\n",
    "def get_optimal_topics(df, max_topics=40, max_features=500, sample_num=10000, patience=5):\n",
    "    train_size = int(0.8 * len(df))\n",
    "    train_df = df[:train_size]\n",
    "    sample_df = train_df.sample(n=sample_num, random_state=42)\n",
    "    \n",
    "    print('Preprocessing text for optimal topics...')\n",
    "    sample_df['preprocessed_text'] = sample_df['preprocessed_text'].fillna('')\n",
    "    preprocessed_texts = sample_df['preprocessed_text'].astype(str).str.split().tolist()\n",
    "    \n",
    "    preprocessed_texts = [text for text in preprocessed_texts if text]\n",
    "    \n",
    "    if not preprocessed_texts:\n",
    "        raise ValueError(\"No valid preprocessed texts found in the sample.\")\n",
    "    \n",
    "    dictionary = Dictionary(preprocessed_texts)\n",
    "    dictionary.filter_extremes(no_below=5, no_above=0.95)\n",
    "    \n",
    "    print('Vectorizing on sample for tfidf matrix and topic modelling...')\n",
    "    vectorizer = TfidfVectorizer(max_features=max_features, min_df=5, max_df=0.95, stop_words='english')\n",
    "    tfidf_matrix = vectorizer.fit_transform(sample_df['preprocessed_text'])\n",
    "    feature_names = vectorizer.get_feature_names_out()\n",
    "    \n",
    "    results = []\n",
    "    print(\"Determining optimal number of topics...\")\n",
    "    best_coherence = -np.inf\n",
    "    best_n_topics = 0\n",
    "    no_improvement_counter = 0\n",
    "    \n",
    "    for n_topics in tqdm(range(2, max_topics + 1), desc=\"Evaluating topic numbers\"):\n",
    "        lsa_model = TruncatedSVD(n_components=n_topics, random_state=42)\n",
    "        \n",
    "        lsa_output = lsa_model.fit_transform(tfidf_matrix)\n",
    "        \n",
    "        lsa_coherence = calculate_coherence_score(lsa_model, preprocessed_texts, dictionary, feature_names)\n",
    "        lsa_score = silhouette_score(tfidf_matrix, np.argmax(lsa_output, axis=1))\n",
    "        \n",
    "        results.append({\n",
    "            'n_topics': n_topics,\n",
    "            'lsa_coherence': lsa_coherence,\n",
    "            'lsa_silhouette': lsa_score\n",
    "        })\n",
    "        \n",
    "        if lsa_coherence > best_coherence:\n",
    "            best_coherence = lsa_coherence\n",
    "            best_n_topics = n_topics\n",
    "            no_improvement_counter = 0\n",
    "        else:\n",
    "            no_improvement_counter += 1\n",
    "        \n",
    "        if no_improvement_counter >= patience:\n",
    "            print(f\"Early stopping at {n_topics} topics due to no improvement in coherence score for {patience} iterations.\")\n",
    "            break\n",
    "    \n",
    "    results_df = pd.DataFrame(results)\n",
    "    optimal_lsa_topics = best_n_topics\n",
    "    \n",
    "    plt.figure(figsize=(12, 6))\n",
    "    plt.plot(results_df['n_topics'], results_df['lsa_coherence'], label='LSA Coherence Score')\n",
    "    plt.xlabel('Number of Topics')\n",
    "    plt.ylabel('Coherence Score')\n",
    "    plt.legend()\n",
    "    plt.show()\n",
    "    \n",
    "    return optimal_lsa_topics\n",
    "\n",
    "df = pd.read_csv('sentiments.csv')\n",
    "optimal_lsa_topics = get_optimal_topics(df.drop_duplicates(), max_topics=20, sample_num=100000)\n",
    "\n",
    "print(f\"Optimal number of topics for LSA: {optimal_lsa_topics}\")\n",
    "\n",
    "df = df.dropna(subset=['preprocessed_text'])\n"
   ]
  },
  {
   "cell_type": "code",
   "execution_count": 10,
   "metadata": {},
   "outputs": [
    {
     "name": "stdout",
     "output_type": "stream",
     "text": [
      "Performing final topic modeling...\n",
      "Vectorizing on full data for tfidf matrix and topic modelling...\n",
      "Performing LSA modelling...\n",
      "Adding topic columns to DataFrame...\n"
     ]
    }
   ],
   "source": [
    "\n",
    "optimal_lsa_topics = optimal_lsa_topics  \n",
    "print(\"Performing final topic modeling...\")\n",
    "lsa_output, feature_names, lsa_model = topic_modeling(df, optimal_lsa_topics, max_features=500)\n",
    "\n",
    "print(\"Adding topic columns to DataFrame...\")\n",
    "df = add_topic_columns(df, lsa_output, optimal_lsa_topics)"
   ]
  },
  {
   "cell_type": "code",
   "execution_count": 11,
   "metadata": {},
   "outputs": [
    {
     "name": "stdout",
     "output_type": "stream",
     "text": [
      "Calculating sentiment score...\n"
     ]
    }
   ],
   "source": [
    "print(\"Calculating sentiment score...\")\n",
    "df['sentiment_score'] = df['sentiment_positive'] - df['sentiment_negative']\n"
   ]
  },
  {
   "cell_type": "code",
   "execution_count": 12,
   "metadata": {},
   "outputs": [
    {
     "name": "stderr",
     "output_type": "stream",
     "text": [
      "C:\\Users\\Adil Rehman\\AppData\\Local\\Temp\\ipykernel_16884\\4283519305.py:37: DeprecationWarning: DataFrameGroupBy.apply operated on the grouping columns. This behavior is deprecated, and in a future version of pandas the grouping columns will be excluded from the operation. Either pass `include_groups=False` to exclude the groupings or explicitly select the grouping columns after groupby to silence this warning.\n",
      "  daily_volume_aggregated = grouped.apply(volume_based_aggregation).reset_index()\n"
     ]
    }
   ],
   "source": [
    "import numpy as np\n",
    "import pandas as pd\n",
    "\n",
    "def volume_based_aggregation(group):\n",
    "    tweet_count = len(group)\n",
    "    \n",
    "    result = {\n",
    "        'tweet_volume': tweet_count,\n",
    "        'avg_sentiment': group['sentiment_score'].mean(),\n",
    "        'avg_neutral_sentiment': group['sentiment_neutral'].mean(),\n",
    "        'avg_positive_sentiment': group['sentiment_positive'].mean(),\n",
    "        'avg_negative_sentiment': group['sentiment_negative'].mean(),\n",
    "    }\n",
    "    \n",
    "    lsa_cols = [col for col in group.columns if col.startswith('lsa_topic_')]\n",
    "    for col in lsa_cols:\n",
    "        result[f'{col}_avg'] = group[col].mean()\n",
    "    \n",
    "    result['total_reach'] = group['tweet_reach'].sum()\n",
    "    result['avg_reach_per_tweet'] = result['total_reach'] / tweet_count if tweet_count > 0 else 0\n",
    "    result['total_engagement'] = group['comment_num'].sum() + group['retweet_num'].sum() + group['like_num'].sum()\n",
    "    result['avg_engagement_per_tweet'] = result['total_engagement'] / tweet_count if tweet_count > 0 else 0\n",
    "    \n",
    "    return pd.Series(result)\n",
    "\n",
    "df.to_csv('lsa_all_unaggregated.csv')\n",
    "df = pd.read_csv('lsa_all_unaggregated.csv')\n",
    "df = df.drop(columns='Unnamed: 0')\n",
    "\n",
    "grouped = df.groupby(['market_date', 'ticker_symbol'])\n",
    "\n",
    "# daily_credibility_weighted = grouped.apply(credibility_weighted_aggregation).reset_index()\n",
    "# daily_attention_weighted = grouped.apply(attention_weighted_aggregation).reset_index()\n",
    "daily_volume_aggregated = grouped.apply(volume_based_aggregation).reset_index()\n",
    "\n",
    "# daily_credibility_weighted.to_csv('./test_csvs/credibility_by_ticker.csv', index=False)\n",
    "# daily_attention_weighted.to_csv('./test_csvs/attention_by_ticker.csv', index=False)\n",
    "daily_volume_aggregated.to_csv('./test_csvs/lsa_volume.csv', index=False)\n"
   ]
  },
  {
   "cell_type": "code",
   "execution_count": null,
   "metadata": {},
   "outputs": [],
   "source": []
  }
 ],
 "metadata": {
  "kernelspec": {
   "display_name": "Python 3",
   "language": "python",
   "name": "python3"
  },
  "language_info": {
   "codemirror_mode": {
    "name": "ipython",
    "version": 3
   },
   "file_extension": ".py",
   "mimetype": "text/x-python",
   "name": "python",
   "nbconvert_exporter": "python",
   "pygments_lexer": "ipython3",
   "version": "3.12.3"
  }
 },
 "nbformat": 4,
 "nbformat_minor": 2
}
